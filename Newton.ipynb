{
 "cells": [
  {
   "cell_type": "markdown",
   "id": "c0e66836",
   "metadata": {},
   "source": [
    "# „All-in-one“\n",
    "\n",
    "<img alt=\"Stiftung Innovation in der Hochschullehre\" src=\"https://upload.wikimedia.org/wikipedia/de/e/e9/Logo_Stiftung_Hochschullehre.svg\" width=\"224\" align=\"right\"/>\n",
    "\n",
    "J. Merker, K. Schöbel, H. Hain, P. Brassel\n",
    "\n",
    "HTWK Leipzig, im Rahmen des Projekts [FassMII](https://idll.htwk-leipzig.de/lehren-forschen/fassmii/)."
   ]
  },
  {
   "cell_type": "markdown",
   "id": "6f994e3e",
   "metadata": {},
   "source": [
    "Die Digitalisierung der Lehre hat zu einer enormen **Diversifizierung der Lehrmaterialien** geführt.  Zu einer zeitgemäßen Lehrveranstaltung im **MINT-Bereich** gehören neben dem klassischen Vorlesungsskript mittlerweile zahlreiche weitere Begleitmaterialien, wie zum Beispiel:\n",
    "* Präsentationen\n",
    "* Rechnungen an der (virtuellen) Tafel\n",
    "* grafikfähiger/CAS-Taschenrechner\n",
    "* interaktive Diagramme\n",
    "* Programmcode\n",
    "* Videos\n",
    "* Übungsaufgaben\n",
    "* E-Assessment\n",
    "\n",
    "Eine derartige Vielfalt wird aber mit **ungeliebten Medienbrüchen** erkauft, die mit der Fragmentierung sowie der fehlenden Verzahnung der Inhalte und Formate einhergehen.  Dieses Notebook soll exemplarisch demonstrieren, wie sich (perspektivisch) alle diese Begleitmaterialien ohne größeren Aufwand in einem einzigen, interaktiven Skript fusionieren lassen."
   ]
  },
  {
   "cell_type": "markdown",
   "id": "6a757b1a",
   "metadata": {},
   "source": [
    "# Beispiel: Das Newton-Verfahren"
   ]
  },
  {
   "cell_type": "code",
   "execution_count": null,
   "id": "3562d0d9",
   "metadata": {},
   "outputs": [],
   "source": [
    "# für Numerik\n",
    "import numpy as np\n",
    "\n",
    "# für Diagramme\n",
    "from matplotlib import pyplot as pp\n",
    "\n",
    "# für Interaktion\n",
    "from ipywidgets import interact, widgets\n",
    "\n",
    "# für eingebettete Videos\n",
    "from IPython.display import YouTubeVideo"
   ]
  },
  {
   "cell_type": "markdown",
   "id": "3d9037d3",
   "metadata": {},
   "source": [
    "## Bilder\n",
    "\n",
    "![Sir Isaac Newton](https://upload.wikimedia.org/wikipedia/commons/thumb/7/7e/Sir_Isaac_Newton._Mezzotint_after_J._Smith%2C_1712%2C_after_Sir_Wellcome_V0004248.jpg/181px-Sir_Isaac_Newton._Mezzotint_after_J._Smith%2C_1712%2C_after_Sir_Wellcome_V0004248.jpg \"Sir Isaac Newton\")\n",
    "\n",
    "<center>\n",
    "    Quelle: <a href=\"https://commons.wikimedia.org/wiki/File:Sir_Isaac_Newton._Mezzotint_after_J._Smith,_1712,_after_Sir_Wellcome_V0004248.jpg\">Wikimedia</a>\n",
    "</center>"
   ]
  },
  {
   "cell_type": "markdown",
   "id": "8ab3866d-00b9-4e91-b534-ccdc1e423dfb",
   "metadata": {},
   "source": [
    "## Klassisches Vorlesungsskript\n",
    "\n",
    "Das Newton-Verfahren dient zur numerischen Bestimmung einer Nullstelle einer differenzierbaren Funktion $f:\\mathbb R\\to\\mathbb R$.\n",
    "\n",
    "Als Beispiel wählen wir hier die Funktion\n",
    "\n",
    "$$\n",
    "    f(x)=x^2-2\n",
    "$$\n",
    "\n",
    "mit der Nullstelle\n",
    "\n",
    "$$\n",
    "    x=\\sqrt2=1,4142\\ldots.\n",
    "$$"
   ]
  },
  {
   "cell_type": "code",
   "execution_count": null,
   "id": "ab3ad0aa-d05b-47b0-bf8a-327e5349dc0b",
   "metadata": {},
   "outputs": [],
   "source": [
    "def f(x):\n",
    "    return x**2 - 2"
   ]
  },
  {
   "cell_type": "markdown",
   "id": "62210383",
   "metadata": {},
   "source": [
    "Um das Newton-Verfahren praktisch durchzuführen, muss die Ableitung der Funktion bekannt bzw. berechenbar sein.  In unserem Falle haben wir:\n",
    "\n",
    "$$\n",
    "    f'(x)=2\\cdot x.\n",
    "$$"
   ]
  },
  {
   "cell_type": "code",
   "execution_count": null,
   "id": "bc4f8515-68aa-491a-a050-db133e9e99ad",
   "metadata": {},
   "outputs": [],
   "source": [
    "def df(x):\n",
    "    return 2*x"
   ]
  },
  {
   "cell_type": "markdown",
   "id": "f847c804",
   "metadata": {},
   "source": [
    "## Randnotizen\n",
    "\n",
    "Studierende erhalten vorab das selbe Notebook.  Sie können daher mit ihrer Version alles tun, was hier demonstriert wird.  Insbesondere:\n",
    "* Zellinhalte verändern\n",
    "* eigene Kommentare einfügen\n",
    "* Zahlenwerte oder Code manipulieren und schauen, was passiert\n",
    "* Zwischenrechnungen durchführen"
   ]
  },
  {
   "cell_type": "markdown",
   "id": "161a84c8-633e-4ebb-aa6f-4d611c36330d",
   "metadata": {},
   "source": [
    "## Grafikfähiger Taschenrechner\n",
    "\n",
    "Als Startwert $x_0$ wählt man eine Zahl in der Nähe der gesuchten Nullstelle."
   ]
  },
  {
   "cell_type": "code",
   "execution_count": null,
   "id": "2712d4d0-a7e8-47c7-abd1-95f024be4896",
   "metadata": {},
   "outputs": [],
   "source": [
    "x0 = 2"
   ]
  },
  {
   "cell_type": "markdown",
   "id": "bd9e8222-685e-4e76-8038-a0c714f00a35",
   "metadata": {},
   "source": [
    "Die Gleichung der Tangente $t(x)$ an die Funktion $f(x)$ im Punkt $x_0$ lautet\n",
    "\n",
    "$$\n",
    "    t(x)=f'(x_0)\\cdot(x-x_0)+f(x_0).\n",
    "$$"
   ]
  },
  {
   "cell_type": "code",
   "execution_count": null,
   "id": "fd0894f6",
   "metadata": {},
   "outputs": [],
   "source": [
    "x = np.linspace(x0 - 1, x0 + 1, 2**10) \n",
    "\n",
    "pp.grid()\n",
    "pp.axhline(color='black')\n",
    "\n",
    "pp.plot(x, f(x), label='Funktion $f(x)$')\n",
    "pp.plot(x, df(x0) * (x - x0) + f(x0), label='Tangente $t(x)$')\n",
    "pp.plot(x0, f(x0), 'k.')\n",
    "pp.legend();"
   ]
  },
  {
   "cell_type": "markdown",
   "id": "0e109452",
   "metadata": {},
   "source": [
    "**Idee:** Als bessere Näherung für die Nullstelle $x_0$ der Funktion $f(x)$ wählen wir die Nullstelle $x_1$ der Tangente $t(x)$.\n",
    "\n",
    "$$        \n",
    "    x_1=x_0-\\frac{f(x_0)}{f'(x_0)}.\n",
    "$$"
   ]
  },
  {
   "cell_type": "code",
   "execution_count": null,
   "id": "7c3fd5f7",
   "metadata": {},
   "outputs": [],
   "source": [
    "x1 = x0 - f(x0) / df(x0)\n",
    "x1"
   ]
  },
  {
   "cell_type": "markdown",
   "id": "e8d5285a",
   "metadata": {},
   "source": [
    "Das Grundprinzip des Newton-Verfahrens lässt sich nun wie folgt formulieren:\n",
    "\n",
    "> **Näherung der Nullstelle** = **Nullstelle der Näherung**"
   ]
  },
  {
   "cell_type": "markdown",
   "id": "1680fe7c",
   "metadata": {},
   "source": [
    "## Zwischenrechnungen\n",
    "\n",
    "**Initialisierung**"
   ]
  },
  {
   "cell_type": "code",
   "execution_count": null,
   "id": "5b109b9d-6bb1-474a-ae2f-8d56b302c6f8",
   "metadata": {},
   "outputs": [],
   "source": [
    "x = x0\n",
    "x"
   ]
  },
  {
   "cell_type": "markdown",
   "id": "2b11af17-195c-4452-953d-298adb64e607",
   "metadata": {},
   "source": [
    "**Iteration**\n",
    "\n",
    "$$\n",
    "    x_{n+1}=x_n-\\frac{f(x_n)}{f'(x_n)}\n",
    "$$\n",
    "\n",
    "Führt man die folgende Zelle wiederholt aus, erhält man sukzessive neue Näherungswerte."
   ]
  },
  {
   "cell_type": "code",
   "execution_count": null,
   "id": "433381e3",
   "metadata": {},
   "outputs": [],
   "source": [
    "x = x - f(x) / df(x)\n",
    "x"
   ]
  },
  {
   "cell_type": "markdown",
   "id": "33b6f822",
   "metadata": {},
   "source": [
    "Zum Vergleich der exakte Wert:"
   ]
  },
  {
   "cell_type": "code",
   "execution_count": null,
   "id": "f0d63a11",
   "metadata": {},
   "outputs": [],
   "source": [
    "np.sqrt(2)"
   ]
  },
  {
   "cell_type": "markdown",
   "id": "1daf93d3",
   "metadata": {},
   "source": [
    "## Tabellen\n",
    "\n",
    "Beispiel: Newton-Iteration zur Näherung von $\\sqrt2$.\n",
    "\n",
    "|      $$n$$ |         $$x_n$$ |       $$\\Delta x_n$$ | \n",
    "|:----------:|:----------------|:---------------------|\n",
    "|          0 | 2.0             | $$5.8\\cdot10^{- 1}$$ |\n",
    "|          1 | 1.50            | $$8.6\\cdot10^{- 2}$$ |\n",
    "|          2 | 1.4166          | $$2.5\\cdot10^{- 3}$$ |\n",
    "|          3 | 1.4142156       | $$2.1\\cdot10^{- 6}$$ |\n",
    "|          4 | 1.4142135623746 | $$1.6\\cdot10^{-12}$$ |\n",
    "| $$\\infty$$ | 1.4142135623730 |                      |"
   ]
  },
  {
   "cell_type": "markdown",
   "id": "60eb6f6c-dccf-4909-b1e4-79b81ad1398b",
   "metadata": {},
   "source": [
    "## Programmcode"
   ]
  },
  {
   "cell_type": "code",
   "execution_count": null,
   "id": "67902061",
   "metadata": {},
   "outputs": [],
   "source": [
    "def Newton(f, df, x0, N):\n",
    "    x = np.full(N, np.nan)\n",
    "    x[0] = x0\n",
    "    for n in range(N-1):\n",
    "        x[n+1] = x[n] - f(x[n]) / df(x[n])\n",
    "    return x"
   ]
  },
  {
   "cell_type": "code",
   "execution_count": null,
   "id": "6c455233",
   "metadata": {},
   "outputs": [],
   "source": [
    "Newton(f, df, 2, 8)"
   ]
  },
  {
   "cell_type": "markdown",
   "id": "ddf94c05",
   "metadata": {},
   "source": [
    "## Interaktive Diagramme\n",
    "\n",
    "Was passiert, wenn ...\n",
    "* der Startwert schlecht gewählt wird?\n",
    "* die Funktion überhaupt keine Nullstelle besitzt?\n",
    "* die Funktion mehrere Nullstellen besitzt?\n",
    "\n",
    "Probieren Sie es aus!"
   ]
  },
  {
   "cell_type": "code",
   "execution_count": null,
   "id": "5c71d183",
   "metadata": {},
   "outputs": [],
   "source": [
    "x  = np.linspace(-3, +3, 2**10)\n",
    "x0 = 2\n",
    "\n",
    "F  = lambda x: x**2 + 1\n",
    "dF = lambda x: 2*x\n",
    "\n",
    "ymin = min(0, min(F(x)))\n",
    "ymax = max(F(x))\n",
    "\n",
    "X = Newton(F, dF, x0, 16)"
   ]
  },
  {
   "cell_type": "code",
   "execution_count": null,
   "id": "9e34845d",
   "metadata": {},
   "outputs": [],
   "source": [
    "@interact(n=widgets.IntSlider(min=0, max=len(X)-2))\n",
    "def plot(n):\n",
    "    x0 = X[n]\n",
    "    x1 = X[n+1]\n",
    "\n",
    "    pp.grid()\n",
    "    pp.axhline(color='black')\n",
    "    pp.xlim(min(x), max(x))\n",
    "    pp.ylim(ymin, ymax)\n",
    "\n",
    "    pp.plot(x, F(x))\n",
    "    pp.plot(x, dF(x0) * (x - x0) + F(x0))\n",
    "    pp.plot(x0, F(x0), 'k.')\n",
    "    pp.plot(x1, F(x1), 'k.')\n",
    "    pp.plot((x1, x1), (0, F(x1)), '--')"
   ]
  },
  {
   "cell_type": "markdown",
   "id": "4de893ab",
   "metadata": {},
   "source": [
    "## Eingebettete Videos"
   ]
  },
  {
   "cell_type": "code",
   "execution_count": null,
   "id": "ceadefdd",
   "metadata": {},
   "outputs": [],
   "source": [
    "YouTubeVideo('CRGBkUIWeaQ')"
   ]
  },
  {
   "cell_type": "markdown",
   "id": "033da22d",
   "metadata": {},
   "source": [
    "## Eingebettete Übungsaufgaben"
   ]
  },
  {
   "cell_type": "code",
   "execution_count": null,
   "id": "03cd83d6",
   "metadata": {},
   "outputs": [],
   "source": [
    "import pyrope"
   ]
  },
  {
   "cell_type": "code",
   "execution_count": null,
   "id": "3d8596a5",
   "metadata": {},
   "outputs": [],
   "source": [
    "%pyrope run Newton.py"
   ]
  },
  {
   "cell_type": "markdown",
   "id": "71bf36be-04f7-47b9-9cc4-23d4c18c0abc",
   "metadata": {},
   "source": [
    "## Tafelrechnung\n",
    "\n",
    "Freihandzeichenfläche via [ipycanvas](https://ipycanvas.readthedocs.io/en/latest/)."
   ]
  },
  {
   "cell_type": "code",
   "execution_count": null,
   "id": "baf10086",
   "metadata": {},
   "outputs": [],
   "source": [
    "from canvas import canvas"
   ]
  },
  {
   "cell_type": "code",
   "execution_count": null,
   "id": "84ae2c9e",
   "metadata": {},
   "outputs": [],
   "source": [
    "canvas"
   ]
  },
  {
   "cell_type": "markdown",
   "id": "05945dbc-ce08-4d19-a0ef-0ddfd3caea1c",
   "metadata": {},
   "source": [
    "<img alt=\"PyRope\" src=\"https://www.htwk-leipzig.de/fileadmin/_processed_/d/9/csm_logo_-PyRope_4a4eee45a6.png\" width=\"64\" align=\"right\"/>\n",
    "\n",
    "# PyRope"
   ]
  },
  {
   "cell_type": "code",
   "execution_count": null,
   "id": "f8a4b55a",
   "metadata": {},
   "outputs": [],
   "source": [
    "from pyrope import Exercise\n",
    "from pyrope.nodes import Problem, Real\n",
    "from scipy.special import lambertw"
   ]
  },
  {
   "cell_type": "code",
   "execution_count": null,
   "id": "44fc6114",
   "metadata": {},
   "outputs": [],
   "source": [
    "class Aufgabe(Exercise):\n",
    "\n",
    "    def parameters(self):\n",
    "        return {'y': np.random.randint(1,10)}\n",
    "\n",
    "    def problem(self, y):\n",
    "        return Problem('''\n",
    "            Lösen Sie die Gleichung\n",
    "            $$\n",
    "                 x\\cdot e^x=<<y:latex>>\n",
    "            $$\n",
    "            näherungsweise mit Hilfe des Newton-Verfahrens unter Verwendung des Taschenrechners:\n",
    "            $x=$ <<x>>\n",
    "            Geben Sie das Ergebnis auf vier Stellen Genauigkeit an.\n",
    "            ''',\n",
    "            x = Real()\n",
    "        )\n",
    "\n",
    "    def the_solution(self, y):\n",
    "        return lambertw(y)\n",
    "    \n",
    "    def score(self, x, y):\n",
    "        return abs(x - lambertw(y)) <= 1e-4\n",
    "    \n",
    "    def feedback(self, x, y):\n",
    "        if x is None:\n",
    "            return \"\"\n",
    "        if abs(x - lambertw(y)) <= 1e-4:\n",
    "            return \"Prima!\"\n",
    "        elif abs(x - lambertw(y)) <= 1e-1:\n",
    "            return \"Zu ungenau.\"\n",
    "        else:\n",
    "            return \"Versuchs nochmal.\"\n",
    "        "
   ]
  },
  {
   "cell_type": "code",
   "execution_count": null,
   "id": "1128e1af",
   "metadata": {},
   "outputs": [],
   "source": [
    "Aufgabe().test()"
   ]
  },
  {
   "cell_type": "code",
   "execution_count": null,
   "id": "b962f95f",
   "metadata": {},
   "outputs": [],
   "source": [
    "Aufgabe().run()"
   ]
  },
  {
   "cell_type": "markdown",
   "id": "60727de1",
   "metadata": {},
   "source": [
    "## Nachteile\n",
    "\n",
    "* Installation von Zusatzsoftware\n",
    "* Probleme mit verschiedenen Versionen\n",
    "* „Boilerplatecode“ (muss kein Nachteil sein)\n",
    "* Divergenz zwischen offiziellem Skript und Studierendenversion\n",
    "* Hin- und Herscrollen\n",
    "* Layout und Schrift nicht anpassbar"
   ]
  },
  {
   "cell_type": "markdown",
   "id": "aa60c779",
   "metadata": {},
   "source": [
    "## Ausblick\n",
    "\n",
    "* selbst definierte Cell-Magics\n",
    "* [RISE](https://rise.readthedocs.io/en/latest/)\n",
    "* [Binder](https://mybinder.org/)"
   ]
  },
  {
   "cell_type": "markdown",
   "id": "43dbdaed",
   "metadata": {},
   "source": [
    "## Ihre Meinung?"
   ]
  }
 ],
 "metadata": {
  "kernelspec": {
   "display_name": "Python 3 (ipykernel)",
   "language": "python",
   "name": "python3"
  },
  "language_info": {
   "codemirror_mode": {
    "name": "ipython",
    "version": 3
   },
   "file_extension": ".py",
   "mimetype": "text/x-python",
   "name": "python",
   "nbconvert_exporter": "python",
   "pygments_lexer": "ipython3",
   "version": "3.11.6"
  }
 },
 "nbformat": 4,
 "nbformat_minor": 5
}
